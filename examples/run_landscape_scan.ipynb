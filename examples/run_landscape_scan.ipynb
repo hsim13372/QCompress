{
 "cells": [
  {
   "cell_type": "markdown",
   "metadata": {},
   "source": [
    "# DEMO: Running parameter scans\n",
    "\n",
    "For small examples, i.e. autoencoder instances that utilize training circuits with a small number of parameters, we can plot and visualize loss landscapes by scanning over the circuit parameters.\n",
    "\n",
    "For this demonstration, we use the two-parameter example shown in [qae_two_qubit_demo.ipynb](https://github.com/hsim13372/QCompress/blob/master/examples/qae_two_qubit_demo.ipynb). Let's first set up this instance."
   ]
  },
  {
   "cell_type": "code",
   "execution_count": 1,
   "metadata": {},
   "outputs": [],
   "source": [
    "# Import modules\n",
    "%matplotlib inline\n",
    "import matplotlib.pyplot as plt\n",
    "import numpy as np\n",
    "import os\n",
    "import scipy.optimize\n",
    "\n",
    "from pyquil.gates import *\n",
    "from pyquil import Program\n",
    "\n",
    "import sys\n",
    "sys.path.append('../qcompress')\n",
    "from qae_engine import *\n",
    "from utils import *\n",
    "\n",
    "global pi\n",
    "pi = np.pi"
   ]
  },
  {
   "cell_type": "markdown",
   "metadata": {},
   "source": [
    "## QAE Settings\n",
    "\n",
    "In the cell below, we enter the settings for the QAE. This two-qubit instance utilizes the full training scheme without resetting the input qubits.\n",
    "\n",
    "__NOTE__: Because QCompress was designed to run on the quantum device (as well as the simulator), we need to anticipate nontrival mappings between abstract qubits and physical qubits. The dictionaries `q_in`,  `q_latent`, and `q_refresh` are abstract-to-physical qubit mappings for the input, latent space, and refresh qubits respectively. A cool plug-in/feature to add would be to have an automated \"qubit mapper\" to determine the optimal or near-optimal abstract-to-physical qubit mappings for a particular QAE instance."
   ]
  },
  {
   "cell_type": "code",
   "execution_count": 2,
   "metadata": {},
   "outputs": [],
   "source": [
    "### QAE setup options\n",
    "\n",
    "# Abstract-to-physical qubit mapping\n",
    "q_in = {'q0': 0, 'q1': 1} # Input qubits\n",
    "q_latent = {'q1': 1}      # Latent space qubits\n",
    "q_refresh = {'q2': 2}     # Refresh qubits\n",
    "\n",
    "# Training scheme setup: Full without reset feature\n",
    "trash_training = False\n",
    "reset = False\n",
    "\n",
    "# Simulator settings\n",
    "cxn_setting = '9q-generic-qvm'\n",
    "n_shots = 5000"
   ]
  },
  {
   "cell_type": "markdown",
   "metadata": {},
   "source": [
    "## Data preparation circuits\n",
    "\n",
    "To prepare the quantum data, we define the state preparation circuits (and their daggered circuits). In this particular example, we will generate the data by scanning over various values of `phi`. "
   ]
  },
  {
   "cell_type": "code",
   "execution_count": 3,
   "metadata": {},
   "outputs": [],
   "source": [
    "def _state_prep_circuit(phi, qubit_indices):\n",
    "    \"\"\"\n",
    "    Returns parametrized state preparation circuit.\n",
    "    We will vary over phi to generate the data set.\n",
    "    \n",
    "    :param phi: (list or numpy.array, required) List or array of data generation parameters\n",
    "    :param qubit_indices: (list, required) List of qubit indices\n",
    "    :returns: State preparation circuit\n",
    "    :rtype: pyquil.quil.Program\n",
    "    \"\"\"\n",
    "    circuit = Program()\n",
    "    circuit += Program(RY(phi[0], qubit_indices[1]))\n",
    "    circuit += Program(CNOT(qubit_indices[1], qubit_indices[0]))\n",
    "    return circuit\n",
    "\n",
    "def _state_prep_circuit_dag(phi, qubit_indices):\n",
    "    \"\"\"\n",
    "    Returns the daggered version of the state preparation circuit.\n",
    "    \n",
    "    :param phi: (list or numpy.array, required) List or array of data generation parameters\n",
    "    :param qubit_indices: (list, required) List of qubit indices\n",
    "    :returns: State un-preparation circuit\n",
    "    :rtype: pyquil.quil.Program\n",
    "    \"\"\"\n",
    "    circuit = Program()\n",
    "    circuit += Program(CNOT(qubit_indices[1], qubit_indices[0]))\n",
    "    circuit += Program(RY(-phi[0], qubit_indices[1]))\n",
    "    return circuit"
   ]
  },
  {
   "cell_type": "markdown",
   "metadata": {},
   "source": [
    "## Qubit labeling\n",
    "\n",
    "In the cell below, we produce lists of __ordered__ physical qubit indices involved in the compression and recovery maps of the quantum autoencoder. Depending on the training and reset schemes, we may use different qubits for the compression vs. recovery."
   ]
  },
  {
   "cell_type": "code",
   "execution_count": 4,
   "metadata": {},
   "outputs": [
    {
     "name": "stdout",
     "output_type": "stream",
     "text": [
      "Physical qubit indices for compression : [0, 1]\n",
      "Physical qubit indices for recovery    : [2, 1]\n"
     ]
    }
   ],
   "source": [
    "compression_indices = order_qubit_labels(q_in).tolist()\n",
    "\n",
    "q_out = merge_two_dicts(q_latent, q_refresh)\n",
    "recovery_indices = order_qubit_labels(q_out).tolist()\n",
    "\n",
    "if not reset:\n",
    "    recovery_indices = recovery_indices[::-1]\n",
    "\n",
    "print(\"Physical qubit indices for compression : {0}\".format(compression_indices))\n",
    "print(\"Physical qubit indices for recovery    : {0}\".format(recovery_indices))"
   ]
  },
  {
   "cell_type": "markdown",
   "metadata": {},
   "source": [
    "For the full training scheme with no resetting feature, this will require the three total qubits. \n",
    "\n",
    "The first two qubits (`q0`, `q1`) will be used to encode the quantum data. `q1` will then be used as the latent space qubit, meaning our objective will be to reward the training conditions that \"push\" the information to the latent space qubit. Then, a refresh qubit, `q2`, is added to recover the original data."
   ]
  },
  {
   "cell_type": "markdown",
   "metadata": {},
   "source": [
    "## Data generation\n",
    "\n",
    "After determining the qubit mapping, we add this physical qubit information to the state preparation circuits and store the \"mapped\" circuits."
   ]
  },
  {
   "cell_type": "code",
   "execution_count": 5,
   "metadata": {},
   "outputs": [],
   "source": [
    "# Lists to store state preparation circuits\n",
    "list_SP_circuits = []\n",
    "list_SP_circuits_dag = []\n",
    "\n",
    "phi_list = np.linspace(-pi/2., pi/2., 40)\n",
    "\n",
    "for angle in phi_list:\n",
    "\n",
    "    # Map state prep circuits\n",
    "    state_prep_circuit = _state_prep_circuit([angle], compression_indices)\n",
    "    \n",
    "    # Map daggered state prep circuits\n",
    "    if reset:\n",
    "        state_prep_circuit_dag = _state_prep_circuit_dag([angle], compression_indices)\n",
    "    else:\n",
    "        state_prep_circuit_dag = _state_prep_circuit_dag([angle], recovery_indices)\n",
    "\n",
    "    # Store mapped circuits\n",
    "    list_SP_circuits.append(state_prep_circuit)\n",
    "    list_SP_circuits_dag.append(state_prep_circuit_dag)"
   ]
  },
  {
   "cell_type": "markdown",
   "metadata": {},
   "source": [
    "## Training circuit preparation\n",
    "\n",
    "In this step, we choose a parametrized quantum circuit that will be trained to compress then recover the input data set.\n",
    "\n",
    "__NOTE__: This is a simple one-parameter training circuit."
   ]
  },
  {
   "cell_type": "code",
   "execution_count": 6,
   "metadata": {},
   "outputs": [],
   "source": [
    "def _training_circuit(theta, qubit_indices):\n",
    "    \"\"\"\n",
    "    Returns parametrized/training circuit.\n",
    "    \n",
    "    :param theta: (list or numpy.array, required) Vector of training parameters\n",
    "    :param qubit_indices: (list, required) List of qubit indices\n",
    "    :returns: Training circuit\n",
    "    :rtype: pyquil.quil.Program\n",
    "    \"\"\"\n",
    "    circuit = Program()\n",
    "    circuit += Program(RY(-theta[0]/2, qubit_indices[0]))\n",
    "    circuit += Program(CNOT(qubit_indices[1], qubit_indices[0]))\n",
    "    return circuit\n",
    "\n",
    "def _training_circuit_dag(theta, qubit_indices):\n",
    "    \"\"\"\n",
    "    Returns the daggered parametrized/training circuit.\n",
    "    \n",
    "    :param theta: (list or numpy.array, required) Vector of training parameters\n",
    "    :param qubit_indices: (list, required) List of qubit indices\n",
    "    :returns: Daggered training circuit\n",
    "    :rtype: pyquil.quil.Program\n",
    "    \"\"\"\n",
    "    circuit = Program()\n",
    "    circuit += Program(CNOT(qubit_indices[1], qubit_indices[0]))\n",
    "    circuit += Program(RY(theta[0]/2, qubit_indices[0]))\n",
    "    return circuit"
   ]
  },
  {
   "cell_type": "markdown",
   "metadata": {},
   "source": [
    "As was done for the state preparation circuits, we also map the training circuits with physical qubits we want to use."
   ]
  },
  {
   "cell_type": "code",
   "execution_count": 7,
   "metadata": {},
   "outputs": [],
   "source": [
    "training_circuit = lambda param : _training_circuit(param, compression_indices)\n",
    "\n",
    "if reset:\n",
    "    training_circuit_dag = lambda param : _training_circuit_dag(param, compression_indices)\n",
    "else:\n",
    "    training_circuit_dag = lambda param : _training_circuit_dag(param, recovery_indices)"
   ]
  },
  {
   "cell_type": "markdown",
   "metadata": {},
   "source": [
    "## Define the QAE instance\n",
    "\n",
    "Here, we initialize a QAE instance. This is where the user can decide which optimizer to use, etc. For this demo, we use the default COBYLA optimizer."
   ]
  },
  {
   "cell_type": "code",
   "execution_count": 8,
   "metadata": {},
   "outputs": [],
   "source": [
    "qae = quantum_autoencoder(state_prep_circuits=list_SP_circuits,\n",
    "                          training_circuit=training_circuit,\n",
    "                          q_in=q_in,\n",
    "                          q_latent=q_latent,\n",
    "                          q_refresh=q_refresh,\n",
    "                          state_prep_circuits_dag=list_SP_circuits_dag,\n",
    "                          training_circuit_dag=training_circuit_dag,\n",
    "                          trash_training=trash_training,\n",
    "                          reset=reset,\n",
    "                          n_shots=n_shots, \n",
    "                          print_interval=1)"
   ]
  },
  {
   "cell_type": "markdown",
   "metadata": {},
   "source": [
    "After defining the instance, we set up the Forest connection (in this case, a simulator) and split the data set."
   ]
  },
  {
   "cell_type": "code",
   "execution_count": 9,
   "metadata": {},
   "outputs": [],
   "source": [
    "qae.setup_forest_cxn(cxn_setting)"
   ]
  },
  {
   "cell_type": "code",
   "execution_count": 10,
   "metadata": {},
   "outputs": [],
   "source": [
    "qae.train_test_split(train_indices=[1, 31, 16, 7, 20, 23, 9, 17])"
   ]
  },
  {
   "cell_type": "code",
   "execution_count": 11,
   "metadata": {},
   "outputs": [
    {
     "name": "stdout",
     "output_type": "stream",
     "text": [
      "QCompress Setting\n",
      "=================\n",
      "QAE type: 2-1-2\n",
      "Data size: 40\n",
      "Training set size: 8\n",
      "Training mode: full cost function\n",
      "  Reset qubits: False\n",
      "Parametric compilation: False\n",
      "Forest connection: 9q-generic-qvm\n",
      "  Connection type: QVM\n"
     ]
    }
   ],
   "source": [
    "print(qae)"
   ]
  },
  {
   "cell_type": "markdown",
   "metadata": {},
   "source": [
    "## Loss landscape generation and visualization\n",
    "\n",
    "For small enough examples, we can visualize the loss landscape, which can help us understand where the minimum is. This might be more useful when simulating a noisy version of the autoencoder."
   ]
  },
  {
   "cell_type": "code",
   "execution_count": 12,
   "metadata": {},
   "outputs": [
    {
     "name": "stdout",
     "output_type": "stream",
     "text": [
      "Theta scan: -3.141592653589793\n",
      "Iter    0 Mean Loss: -0.4098000\n",
      "Theta scan: -2.9249310912732556\n",
      "Iter    1 Mean Loss: -0.4571750\n",
      "Theta scan: -2.708269528956718\n",
      "Iter    2 Mean Loss: -0.5115250\n",
      "Theta scan: -2.4916079666401805\n",
      "Iter    3 Mean Loss: -0.5770750\n",
      "Theta scan: -2.2749464043236434\n",
      "Iter    4 Mean Loss: -0.6306000\n",
      "Theta scan: -2.058284842007106\n",
      "Iter    5 Mean Loss: -0.6881000\n",
      "Theta scan: -1.8416232796905683\n",
      "Iter    6 Mean Loss: -0.7430500\n",
      "Theta scan: -1.624961717374031\n",
      "Iter    7 Mean Loss: -0.7938500\n",
      "Theta scan: -1.4083001550574934\n",
      "Iter    8 Mean Loss: -0.8342000\n",
      "Theta scan: -1.1916385927409558\n",
      "Iter    9 Mean Loss: -0.8798000\n",
      "Theta scan: -0.9749770304244185\n",
      "Iter   10 Mean Loss: -0.9194500\n",
      "Theta scan: -0.758315468107881\n",
      "Iter   11 Mean Loss: -0.9506500\n",
      "Theta scan: -0.5416539057913434\n",
      "Iter   12 Mean Loss: -0.9741250\n",
      "Theta scan: -0.3249923434748059\n",
      "Iter   13 Mean Loss: -0.9903000\n",
      "Theta scan: -0.10833078115826877\n",
      "Iter   14 Mean Loss: -0.9990000\n",
      "Theta scan: 0.10833078115826877\n",
      "Iter   15 Mean Loss: -0.9993500\n",
      "Theta scan: 0.3249923434748063\n",
      "Iter   16 Mean Loss: -0.9913500\n",
      "Theta scan: 0.5416539057913439\n",
      "Iter   17 Mean Loss: -0.9741000\n",
      "Theta scan: 0.7583154681078814\n",
      "Iter   18 Mean Loss: -0.9511500\n",
      "Theta scan: 0.9749770304244185\n",
      "Iter   19 Mean Loss: -0.9214500\n",
      "Theta scan: 1.191638592740956\n",
      "Iter   20 Mean Loss: -0.8854500\n",
      "Theta scan: 1.4083001550574936\n",
      "Iter   21 Mean Loss: -0.8410000\n",
      "Theta scan: 1.6249617173740312\n",
      "Iter   22 Mean Loss: -0.7955250\n",
      "Theta scan: 1.8416232796905687\n",
      "Iter   23 Mean Loss: -0.7388750\n",
      "Theta scan: 2.0582848420071063\n",
      "Iter   24 Mean Loss: -0.6917250\n",
      "Theta scan: 2.274946404323644\n",
      "Iter   25 Mean Loss: -0.6326500\n",
      "Theta scan: 2.4916079666401814\n",
      "Iter   26 Mean Loss: -0.5717000\n",
      "Theta scan: 2.708269528956718\n",
      "Iter   27 Mean Loss: -0.5172250\n",
      "Theta scan: 2.9249310912732556\n",
      "Iter   28 Mean Loss: -0.4559250\n",
      "Theta scan: 3.141592653589793\n",
      "Iter   29 Mean Loss: -0.4082500\n"
     ]
    }
   ],
   "source": [
    "# Collect loss landscape data (scan over various values of theta)\n",
    "theta_scan = np.linspace(-pi, pi, 30)\n",
    "training_losses = []\n",
    "\n",
    "for angle in theta_scan:\n",
    "    print(\"Theta scan: {}\".format(angle))\n",
    "    angle = [angle]\n",
    "    training_loss = qae.compute_loss_function(angle)\n",
    "    training_losses.append(training_loss)"
   ]
  },
  {
   "cell_type": "code",
   "execution_count": 13,
   "metadata": {},
   "outputs": [
    {
     "data": {
      "image/png": "[encoded data removed]",
      "text/plain": [
       "<Figure size 432x288 with 1 Axes>"
      ]
     },
     "metadata": {
      "needs_background": "light"
     },
     "output_type": "display_data"
    }
   ],
   "source": [
    "# Visualize loss landscape\n",
    "fig = plt.figure(figsize=(6, 4))\n",
    "plt.plot(theta_scan, np.array(training_losses), '.-')\n",
    "plt.title(\"QAE Training Landscape on Noiseless QVM\", fontsize=18)\n",
    "plt.xlabel(\"Parameter\", fontsize=16)\n",
    "plt.ylabel(\"Mean Loss\", fontsize=16)\n",
    "plt.xticks([-np.pi, -np.pi/2., 0., np.pi/2., np.pi],\n",
    "           [r\"-$\\pi$\", r\"-$\\frac{\\pi}{2}$\", \"$0$\", r\"$\\frac{\\pi}{2}$\", r\"$\\pi$\"])\n",
    "plt.show()"
   ]
  },
  {
   "cell_type": "code",
   "execution_count": null,
   "metadata": {},
   "outputs": [],
   "source": []
  },
  {
   "cell_type": "markdown",
   "metadata": {},
   "source": [
    "## A slightly larger example\n",
    "\n",
    "We've tried doing a similar landscape scan for the hydrogen example shown in [qae_h2_demo.ipynb](https://github.com/hsim13372/QCompress/blob/master/examples/qae_h2_demo.ipynb).\n",
    "\n",
    "In this hydrogen example, we used a two-parameter training circuit. \n",
    "\n",
    "<img src=\"../images/h2_loss_landscape_full_no_reset_3000_simulated.png\" width=\"600\">\n",
    "\n",
    "This is the loss landscape for the full training case with no reset feature on the noiseless simulator. The number of circuit shots used is 3000. We can see that the minimum is at ($\\pi$, $\\pi$)."
   ]
  },
  {
   "cell_type": "code",
   "execution_count": null,
   "metadata": {},
   "outputs": [],
   "source": []
  }
 ],
 "metadata": {
  "kernelspec": {
   "display_name": "Python 3",
   "language": "python",
   "name": "python3"
  },
  "language_info": {
   "codemirror_mode": {
    "name": "ipython",
    "version": 3
   },
   "file_extension": ".py",
   "mimetype": "text/x-python",
   "name": "python",
   "nbconvert_exporter": "python",
   "pygments_lexer": "ipython3",
   "version": "3.7.0"
  }
 },
 "nbformat": 4,
 "nbformat_minor": 2
}
