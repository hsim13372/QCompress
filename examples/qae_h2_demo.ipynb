{
 "cells": [
  {
   "cell_type": "markdown",
   "metadata": {},
   "source": [
    "# Demo: Compressing ground states of molecular hydrogen\n",
    "\n",
    "In this demo, we will try to compress ground states of molecular hydrogen at various bond lengths. We start with expressing each state using 4 qubits and try to compress the information to 1 qubit (i.e. 4-1-4 quantum autoencoder).\n",
    "\n",
    "In the following section, we review both the full and halfway training schemes. However, in the notebook, we execute the halfway training case.\n",
    "\n",
    "## Full cost function training\n",
    "\n",
    "The QAE circuit for full cost function training looks like the following:\n",
    "\n",
    "<img src=\"../images/qae_setup.png\" width=\"400\">\n",
    "\n",
    "We note that our setup is different from what was proposed in the original paper. As shown in the figure above, we use 7 total qubits for the 4-1-4 autoencoder, using the last 3 qubits (qubits $q_6$, $q_5$, and $q_4$) as refresh qubits. The unitary $S$ represents the state preparation circuit, gates implemented to produce the input data set. The unitary $U$ represents the training circuit that will be responsible for representing the data set using a fewer number of qubits, in this case using a single qubit. The tilde symbol above the daggered operations indicates that the qubit indexing has been adjusted such that $q_0 \\rightarrow q_6$, $q_1 \\rightarrow q_5$, $q_2 \\rightarrow q_4$, and $q_3 \\rightarrow q_3$. For clarity, refer to the figure below for an equivalent circuit with the refresh qubits moved around. So qubit $q_3$ is to be the \"latent space qubit,\" or qubit to hold the compressed information. Using the circuit structure above (applying  $S$ and $U$ then effectively __un__-applying $S$ and $U$), we train the autoencoder by propagating the QAE circuit with proposed parameters and computing the probability of obtaining measurements of 0000 for the latent space and refresh qubits ($q_3$ to $q_6$). We negate this value for casting as a minimization problem and average over the training set to compute a single loss value.\n",
    "\n",
    "<img src=\"../images/qae_adjusted.png\" width=\"500\">\n",
    "\n",
    "## Halfway cost function training\n",
    "\n",
    "In the halfway cost function training case, the circuit looks like the following:\n",
    "\n",
    "<img src=\"../images/h2_halfway_circuit.png\" width=\"300\">\n",
    "\n",
    "Here, the cost function is the negated probability of obtaining the measurement 000 for the trash qubits.\n",
    "\n",
    "\n",
    "## Demo Outline\n",
    "\n",
    "We break down this demo into the following steps:\n",
    "1. Preparation of the quantum data\n",
    "2. Initializing the QAE\n",
    "2. Setting up the Forest connection\n",
    "3. Dividing the dataset into training and test sets\n",
    "4. Training the network\n",
    "5. Testing the network\n",
    "\n",
    "__NOTE__: While the QCompress framework was developed to execute on both the QVM and the QPU (i.e. simulator and quantum device, respectively), this particular demo runs a simulation (i.e. uses QVM).\n",
    "\n",
    "Let us begin! "
   ]
  },
  {
   "cell_type": "code",
   "execution_count": 1,
   "metadata": {},
   "outputs": [],
   "source": [
    "# Import modules\n",
    "%matplotlib inline\n",
    "import matplotlib.pyplot as plt\n",
    "import numpy as np\n",
    "import os\n",
    "\n",
    "from openfermion.hamiltonians import MolecularData\n",
    "from openfermion.transforms import get_sparse_operator, jordan_wigner\n",
    "from openfermion.utils import get_ground_state\n",
    "\n",
    "# from forestopenfermion import qubitop_to_pyquilpauli\n",
    "\n",
    "from pyquil.api import WavefunctionSimulator\n",
    "from pyquil.gates import *\n",
    "from pyquil import Program\n",
    "\n",
    "from grove.alpha.arbitrary_state import arbitrary_state\n",
    "\n",
    "import sys\n",
    "sys.path.append('../qcompress')\n",
    "from qae_engine import *\n",
    "from utils import *\n",
    "from config import DATA_DIRECTORY\n",
    "\n",
    "global pi\n",
    "pi = np.pi"
   ]
  },
  {
   "cell_type": "markdown",
   "metadata": {},
   "source": [
    "## QAE Settings\n",
    "\n",
    "In the cell below, we enter the settings for the QAE.\n",
    "\n",
    "__NOTE__: Because QCompress was designed to run on the quantum device (as well as the simulator), we need to anticipate nontrival mappings between abstract qubits and physical qubits. The dictionaries `q_in`,  `q_latent`, and `q_refresh` are abstract-to-physical qubit mappings for the input, latent space, and refresh qubits respectively. A cool plug-in/feature to add would be to have an automated \"qubit mapper\" to determine the optimal or near-optimal abstract-to-physical qubit mappings for a particular QAE instance."
   ]
  },
  {
   "cell_type": "code",
   "execution_count": 2,
   "metadata": {},
   "outputs": [],
   "source": [
    "### QAE setup options\n",
    "\n",
    "# Abstract-to-physical qubit mapping\n",
    "q_in = {'q0': 0, 'q1': 1, 'q2': 2, 'q3': 3} # Input qubits\n",
    "q_latent = {'q3': 3}                        # Latent space qubits\n",
    "q_refresh = None\n",
    "\n",
    "# Training scheme: Halfway\n",
    "trash_training = True\n",
    "\n",
    "# Simulator settings\n",
    "cxn_setting = '9q-generic-qvm'\n",
    "n_shots = 3000"
   ]
  },
  {
   "cell_type": "markdown",
   "metadata": {},
   "source": [
    "## Qubit labeling\n",
    "\n",
    "In the cell below, we produce lists of __ordered__ physical qubit indices involved in the compression and recovery maps of the quantum autoencoder. Depending on the training and reset schemes, we may use different qubits for the compression vs. recovery.\n",
    "\n",
    "Since we're employing the halfway training scheme, we don't need to assign the qubit labels for the recovery process."
   ]
  },
  {
   "cell_type": "code",
   "execution_count": 3,
   "metadata": {},
   "outputs": [
    {
     "name": "stdout",
     "output_type": "stream",
     "text": [
      "Physical qubit indices for compression : [0, 1, 2, 3]\n"
     ]
    }
   ],
   "source": [
    "compression_indices = order_qubit_labels(q_in).tolist()\n",
    "\n",
    "if not trash_training:\n",
    "    q_out = merge_two_dicts(q_latent, q_refresh)\n",
    "    recovery_indices = order_qubit_labels(q_out).tolist()\n",
    "\n",
    "    if not reset:\n",
    "        recovery_indices = recovery_indices[::-1]\n",
    "\n",
    "print(\"Physical qubit indices for compression : {0}\".format(compression_indices))"
   ]
  },
  {
   "cell_type": "markdown",
   "metadata": {},
   "source": [
    "# Generating input data\n",
    "\n",
    "We use routines from `OpenFermion`, `forestopenfermion`, and `grove` to generate the input data set. We've provided the molecular data files for you, which were generated using `OpenFermion`'s plugin `OpenFermion-Psi4`."
   ]
  },
  {
   "cell_type": "code",
   "execution_count": 4,
   "metadata": {},
   "outputs": [],
   "source": [
    "qvm = WavefunctionSimulator()\n",
    "\n",
    "# MolecularData settings\n",
    "molecule_name = \"H2\"\n",
    "basis = \"sto-3g\"\n",
    "multiplicity = \"singlet\"\n",
    "dist_list = np.arange(0.2, 4.2, 0.1)\n",
    "\n",
    "# Lists to store HF and FCI energies\n",
    "hf_energies = []\n",
    "fci_energies = []\n",
    "check_energies = []\n",
    "\n",
    "# Lists to store state preparation circuits\n",
    "list_SP_circuits = []\n",
    "list_SP_circuits_dag = []\n",
    "\n",
    "for dist in dist_list:\n",
    "    \n",
    "    # Fetch file path\n",
    "    dist = \"{0:.1f}\".format(dist)\n",
    "    file_path = os.path.join(DATA_DIRECTORY, \"{0}_{1}_{2}_{3}.hdf5\".format(molecule_name,\n",
    "                                                                    basis,\n",
    "                                                                    multiplicity,\n",
    "                                                                    dist))\n",
    "    \n",
    "    # Extract molecular info\n",
    "    molecule = MolecularData(filename=file_path)\n",
    "    n_qubits = molecule.n_qubits\n",
    "    hf_energies.append(molecule.hf_energy)\n",
    "    fci_energies.append(molecule.fci_energy)\n",
    "    molecular_ham = molecule.get_molecular_hamiltonian()\n",
    "    \n",
    "    # Set up hamiltonian in qubit basis\n",
    "    qubit_ham = jordan_wigner(molecular_ham)\n",
    "\n",
    "    # Convert from OpenFermion's to PyQuil's data type (QubitOperator to PauliTerm/PauliSum)\n",
    "    qubit_ham_pyquil = qubitop_to_pyquilpauli(qubit_ham)\n",
    "\n",
    "    # Sanity check: Obtain ground state energy and check with MolecularData's FCI energy\n",
    "    molecular_ham_sparse = get_sparse_operator(operator=molecular_ham, n_qubits=n_qubits)\n",
    "    ground_energy, ground_state = get_ground_state(molecular_ham_sparse)\n",
    "    assert np.isclose(molecule.fci_energy, ground_energy)\n",
    "    \n",
    "    # Generate unitary to prepare ground states\n",
    "    state_prep_unitary = arbitrary_state.create_arbitrary_state(\n",
    "                            ground_state,\n",
    "                            qubits=compression_indices)\n",
    "\n",
    "    if not trash_training:\n",
    "        if reset:\n",
    "            # Generate daggered state prep unitary (WITH NEW/ADJUSTED INDICES!)\n",
    "            state_prep_unitary_dag = arbitrary_state.create_arbitrary_state(\n",
    "                                        ground_state,\n",
    "                                        qubits=compression_indices).dagger()\n",
    "        else:\n",
    "            # Generate daggered state prep unitary (WITH NEW/ADJUSTED INDICES!)\n",
    "            state_prep_unitary_dag = arbitrary_state.create_arbitrary_state(\n",
    "                                        ground_state,\n",
    "                                        qubits=recovery_indices).dagger()\n",
    "    \n",
    "    # Sanity check: Compute energy wrt wavefunction evolved under state_prep_unitary\n",
    "    wfn = qvm.wavefunction(state_prep_unitary)\n",
    "    ket = wfn.amplitudes\n",
    "    bra = np.transpose(np.conjugate(wfn.amplitudes))\n",
    "    ham_matrix = molecular_ham_sparse.toarray()\n",
    "    energy_expectation = np.dot(bra, np.dot(ham_matrix, ket))\n",
    "    check_energies.append(energy_expectation)\n",
    "    \n",
    "    # Store circuits\n",
    "    list_SP_circuits.append(state_prep_unitary)\n",
    "    if not trash_training:\n",
    "        list_SP_circuits_dag.append(state_prep_unitary_dag)"
   ]
  },
  {
   "cell_type": "code",
   "execution_count": null,
   "metadata": {},
   "outputs": [],
   "source": []
  },
  {
   "cell_type": "markdown",
   "metadata": {},
   "source": [
    "### Try plotting the energies of the input data set.\n",
    "\n",
    "To (visually) check our state preparation circuits, we run these circuits and plot the energies. The \"check\" energies overlay nicely with the FCI energies."
   ]
  },
  {
   "cell_type": "code",
   "execution_count": 5,
   "metadata": {},
   "outputs": [
    {
     "data": {
      "image/png": "[encoded data removed]",
      "text/plain": [
       "<Figure size 432x288 with 1 Axes>"
      ]
     },
     "metadata": {
      "needs_background": "light"
     },
     "output_type": "display_data"
    }
   ],
   "source": [
    "imag_components = np.array([E.imag for E in check_energies])\n",
    "assert np.isclose(imag_components, np.zeros(len(imag_components))).all()\n",
    "check_energies = [E.real for E in check_energies]\n",
    "\n",
    "plt.plot(dist_list, hf_energies, '.-', label='HF')\n",
    "plt.plot(dist_list, fci_energies, 'd-', markersize=6, label='FCI')\n",
    "plt.plot(dist_list, check_energies, '.-', markersize=4, label='Check energies')\n",
    "plt.title(\"Dissociation Profile, $H_2$\")\n",
    "plt.xlabel(\"Bond Length, Angstroms\")\n",
    "plt.ylabel(\"Energy, Hartrees\")\n",
    "plt.legend()\n",
    "plt.show()"
   ]
  },
  {
   "cell_type": "code",
   "execution_count": null,
   "metadata": {},
   "outputs": [],
   "source": []
  },
  {
   "cell_type": "markdown",
   "metadata": {},
   "source": [
    "## Training circuit for QAE\n",
    "\n",
    "Now we want to choose a parametrized circuit which we hope to train to compress the input quantum data set.\n",
    "\n",
    "For this demonstration, we use a simple two-parameter circuit, as shown below.\n",
    "\n",
    "__NOTE__: For more general data sets (and general circuits), we may need to run multiple instances of the QAE with different initial guesses to find a good compression circuit."
   ]
  },
  {
   "cell_type": "code",
   "execution_count": 6,
   "metadata": {},
   "outputs": [],
   "source": [
    "def _training_circuit(theta, qubit_indices):\n",
    "    \"\"\"\n",
    "    Returns parametrized/training circuit.\n",
    "    \n",
    "    :param theta: (list or numpy.array, required) Vector of training parameters\n",
    "    :param qubit_indices: (list, required) List of qubit indices\n",
    "    :returns: Training circuit\n",
    "    :rtype: pyquil.quil.Program\n",
    "    \"\"\"\n",
    "    circuit = Program()\n",
    "    circuit += Program(RX(theta[0], qubit_indices[2]),\n",
    "                       RX(theta[1], qubit_indices[3]))\n",
    "    circuit += Program(CNOT(qubit_indices[2], qubit_indices[0]),\n",
    "                       CNOT(qubit_indices[3], qubit_indices[1]),\n",
    "                       CNOT(qubit_indices[3], qubit_indices[2]))\n",
    "    return circuit\n",
    "\n",
    "def _training_circuit_dag(theta, qubit_indices):\n",
    "    \"\"\"\n",
    "    Returns the daggered parametrized/training circuit.\n",
    "    \n",
    "    :param theta: (list or numpy.array, required) Vector of training parameters\n",
    "    :param qubit_indices: (list, required) List of qubit indices\n",
    "    :returns: Daggered training circuit\n",
    "    :rtype: pyquil.quil.Program\n",
    "    \"\"\"\n",
    "    circuit = Program()\n",
    "    circuit += Program(CNOT(qubit_indices[3], qubit_indices[2]),\n",
    "                       CNOT(qubit_indices[3], qubit_indices[1]),\n",
    "                       CNOT(qubit_indices[2], qubit_indices[0]))\n",
    "    circuit += Program(RX(-theta[1], qubit_indices[3]),\n",
    "                       RX(-theta[0], qubit_indices[2]))\n",
    "    return circuit"
   ]
  },
  {
   "cell_type": "code",
   "execution_count": 7,
   "metadata": {},
   "outputs": [],
   "source": [
    "training_circuit = lambda param : _training_circuit(param, compression_indices)\n",
    "\n",
    "if not trash_training:\n",
    "    if reset:\n",
    "        training_circuit_dag = lambda param : _training_circuit_dag(param, compression_indices)\n",
    "    else:\n",
    "        training_circuit_dag = lambda param : _training_circuit_dag(param, recovery_indices)"
   ]
  },
  {
   "cell_type": "code",
   "execution_count": null,
   "metadata": {},
   "outputs": [],
   "source": []
  },
  {
   "cell_type": "markdown",
   "metadata": {},
   "source": [
    "## Initialize the QAE engine\n",
    "\n",
    "Here we create an instance of the `quantum_autoencoder` class. \n",
    "\n",
    "\n",
    "Leveraging the features of the `Forest` platform, this quantum autoencoder \"engine\" allows you to run a noisy version of the QVM to get a sense of how the autoencoder performs under noise (but qvm is noiseless in this demo). In addition, the user can also run this instance on the quantum device (assuming the user is given access to one of Rigetti Computing's available QPUs)."
   ]
  },
  {
   "cell_type": "code",
   "execution_count": 8,
   "metadata": {},
   "outputs": [],
   "source": [
    "qae = quantum_autoencoder(state_prep_circuits=list_SP_circuits,\n",
    "                          training_circuit=training_circuit,\n",
    "                          q_in=q_in,\n",
    "                          q_latent=q_latent,\n",
    "                          q_refresh=q_refresh,\n",
    "                          trash_training=trash_training,\n",
    "                          parametric_compilation=False,\n",
    "                          n_shots=n_shots, \n",
    "                          print_interval=1)"
   ]
  },
  {
   "cell_type": "markdown",
   "metadata": {},
   "source": [
    "After defining the instance, we set up the Forest connection (in this case, a simulator)."
   ]
  },
  {
   "cell_type": "code",
   "execution_count": 9,
   "metadata": {},
   "outputs": [],
   "source": [
    "qae.setup_forest_cxn(cxn_setting)"
   ]
  },
  {
   "cell_type": "markdown",
   "metadata": {},
   "source": [
    "Let's split the data set into training and test set. If we don't input the argument `train_indices`, the data set will be randomly split. However, knowing our quantum data set, we may want to choose various regions along the PES (the energy curve shown above) to train the entire function. Here, we pick 6 out of 40 data points for our training set."
   ]
  },
  {
   "cell_type": "code",
   "execution_count": 10,
   "metadata": {},
   "outputs": [],
   "source": [
    "qae.train_test_split(train_indices=[3, 10, 15, 20, 30, 35])"
   ]
  },
  {
   "cell_type": "markdown",
   "metadata": {},
   "source": [
    "Let's print some information about the QAE instance."
   ]
  },
  {
   "cell_type": "code",
   "execution_count": 11,
   "metadata": {},
   "outputs": [
    {
     "name": "stdout",
     "output_type": "stream",
     "text": [
      "QCompress Setting\n",
      "=================\n",
      "QAE type: 4-1-4\n",
      "Data size: 40\n",
      "Training set size: 6\n",
      "Training mode: halfway cost function\n",
      "Parametric compilation: False\n",
      "Forest connection: 9q-generic-qvm\n",
      "  Connection type: QVM\n"
     ]
    }
   ],
   "source": [
    "print(qae)"
   ]
  },
  {
   "cell_type": "code",
   "execution_count": null,
   "metadata": {},
   "outputs": [],
   "source": []
  },
  {
   "cell_type": "markdown",
   "metadata": {},
   "source": [
    "## Training\n",
    "\n",
    "The autoencoder is trained in the cell below, where the default optimization algorithm is Constrained Optimization BY Linear Approximation (COBYLA). The lowest possible mean loss value is -1.000."
   ]
  },
  {
   "cell_type": "code",
   "execution_count": 12,
   "metadata": {
    "scrolled": false
   },
   "outputs": [
    {
     "name": "stdout",
     "output_type": "stream",
     "text": [
      "Iter    0 Mean Loss: -0.0000000\n",
      "Iter    1 Mean Loss: -0.0000000\n",
      "Iter    2 Mean Loss: -0.0013889\n",
      "Iter    3 Mean Loss: -0.0048889\n",
      "Iter    4 Mean Loss: -0.0110000\n",
      "Iter    5 Mean Loss: -0.0162222\n",
      "Iter    6 Mean Loss: -0.0252222\n",
      "Iter    7 Mean Loss: -0.0425000\n",
      "Iter    8 Mean Loss: -0.0481111\n",
      "Iter    9 Mean Loss: -0.0656111\n",
      "Iter   10 Mean Loss: -0.0851667\n",
      "Iter   11 Mean Loss: -0.1061111\n",
      "Iter   12 Mean Loss: -0.1341667\n",
      "Iter   13 Mean Loss: -0.1433333\n",
      "Iter   14 Mean Loss: -0.1786667\n",
      "Iter   15 Mean Loss: -0.2096111\n",
      "Iter   16 Mean Loss: -0.2401111\n",
      "Iter   17 Mean Loss: -0.2856667\n",
      "Iter   18 Mean Loss: -0.3032778\n",
      "Iter   19 Mean Loss: -0.3460000\n",
      "Iter   20 Mean Loss: -0.3931111\n",
      "Iter   21 Mean Loss: -0.4358333\n",
      "Iter   22 Mean Loss: -0.4764444\n",
      "Iter   23 Mean Loss: -0.5207222\n",
      "Iter   24 Mean Loss: -0.5685556\n",
      "Iter   25 Mean Loss: -0.6066667\n",
      "Iter   26 Mean Loss: -0.6508889\n",
      "Iter   27 Mean Loss: -0.7007222\n",
      "Iter   28 Mean Loss: -0.7431111\n",
      "Iter   29 Mean Loss: -0.7788333\n",
      "Iter   30 Mean Loss: -0.8145000\n",
      "Iter   31 Mean Loss: -0.8497222\n",
      "Iter   32 Mean Loss: -0.8820000\n",
      "Iter   33 Mean Loss: -0.9120556\n",
      "Iter   34 Mean Loss: -0.9392222\n",
      "Iter   35 Mean Loss: -0.9611667\n",
      "Iter   36 Mean Loss: -0.9746667\n",
      "Iter   37 Mean Loss: -0.9867222\n",
      "Iter   38 Mean Loss: -0.9961667\n",
      "Iter   39 Mean Loss: -0.9993889\n",
      "Iter   40 Mean Loss: -0.9996111\n",
      "Iter   41 Mean Loss: -0.9990000\n",
      "Iter   42 Mean Loss: -0.9991111\n",
      "Iter   43 Mean Loss: -0.9994444\n",
      "Iter   44 Mean Loss: -0.9996111\n",
      "Iter   45 Mean Loss: -0.9995000\n",
      "Iter   46 Mean Loss: -0.9995556\n",
      "Iter   47 Mean Loss: -0.9993333\n",
      "Iter   48 Mean Loss: -0.9997222\n",
      "Iter   49 Mean Loss: -0.9996111\n",
      "Iter   50 Mean Loss: -0.9995000\n",
      "Iter   51 Mean Loss: -0.9996667\n",
      "Iter   52 Mean Loss: -0.9998889\n",
      "Iter   53 Mean Loss: -0.9995000\n",
      "Iter   54 Mean Loss: -0.9994444\n",
      "Iter   55 Mean Loss: -0.9997222\n",
      "Iter   56 Mean Loss: -0.9996667\n",
      "Iter   57 Mean Loss: -0.9996667\n",
      "Iter   58 Mean Loss: -0.9996667\n",
      "Iter   59 Mean Loss: -0.9995556\n",
      "Iter   60 Mean Loss: -0.9994444\n",
      "Iter   61 Mean Loss: -0.9994444\n",
      "Mean loss for training data: -0.9994444444444444\n",
      "CPU times: user 1min 44s, sys: 1.15 s, total: 1min 45s\n",
      "Wall time: 17min 32s\n"
     ]
    }
   ],
   "source": [
    "%%time\n",
    "\n",
    "initial_guess = [pi/2., 0.]\n",
    "avg_loss_train = qae.train(initial_guess)"
   ]
  },
  {
   "cell_type": "markdown",
   "metadata": {},
   "source": [
    "### Printing the optimized parameters"
   ]
  },
  {
   "cell_type": "code",
   "execution_count": 13,
   "metadata": {},
   "outputs": [
    {
     "name": "stdout",
     "output_type": "stream",
     "text": [
      "[3.14154137 3.18134775]\n"
     ]
    }
   ],
   "source": [
    "print(qae.optimized_params)"
   ]
  },
  {
   "cell_type": "markdown",
   "metadata": {},
   "source": [
    "### Plot training losses"
   ]
  },
  {
   "cell_type": "code",
   "execution_count": 14,
   "metadata": {
    "scrolled": true
   },
   "outputs": [
    {
     "data": {
      "image/png": "[encoded data removed]",
      "text/plain": [
       "<Figure size 432x288 with 1 Axes>"
      ]
     },
     "metadata": {
      "needs_background": "light"
     },
     "output_type": "display_data"
    }
   ],
   "source": [
    "fig = plt.figure(figsize=(6, 4))\n",
    "plt.plot(qae.train_history, 'o-', linewidth=1)\n",
    "plt.title(\"Training Loss\", fontsize=16)\n",
    "plt.xlabel(\"Function Evaluation\",fontsize=20)\n",
    "plt.ylabel(\"Loss Value\", fontsize=20)\n",
    "plt.xticks(fontsize=16)\n",
    "plt.yticks(fontsize=16)\n",
    "plt.show()"
   ]
  },
  {
   "cell_type": "markdown",
   "metadata": {},
   "source": [
    "## Testing\n",
    "\n",
    "Now test the optimized network against the rest of the data set (i.e. use the optimized parameters to try to compress then recover each test data point)."
   ]
  },
  {
   "cell_type": "code",
   "execution_count": 15,
   "metadata": {},
   "outputs": [
    {
     "name": "stdout",
     "output_type": "stream",
     "text": [
      "Iter   62 Mean Loss: -0.9996275\n",
      "Mean loss for test data: -0.9996274509803923\n"
     ]
    }
   ],
   "source": [
    "avg_loss_test = qae.predict()"
   ]
  },
  {
   "cell_type": "code",
   "execution_count": null,
   "metadata": {},
   "outputs": [],
   "source": []
  }
 ],
 "metadata": {
  "kernelspec": {
   "display_name": "Python 3",
   "language": "python",
   "name": "python3"
  },
  "language_info": {
   "codemirror_mode": {
    "name": "ipython",
    "version": 3
   },
   "file_extension": ".py",
   "mimetype": "text/x-python",
   "name": "python",
   "nbconvert_exporter": "python",
   "pygments_lexer": "ipython3",
   "version": "3.7.0"
  }
 },
 "nbformat": 4,
 "nbformat_minor": 2
}
