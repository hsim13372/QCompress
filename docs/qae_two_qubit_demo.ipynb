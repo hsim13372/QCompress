{
 "cells": [
  {
   "cell_type": "markdown",
   "metadata": {},
   "source": [
    "# Demo: Two-qubit QAE instance\n",
    "\n",
    "In this demo, we compress a two-qubit data set such that we have its (lossy) description using one qubit.\n",
    "\n",
    "We show the state preparation and training circuits below (circuits for both training schemes are shown but in this notebook, we run the \"full with reset\" method):\n",
    "\n",
    "<img src=\"../images/two_qubit_circuits.png\" width=\"500\">\n",
    "\n",
    "We first generate the data set by varying $\\phi$ (40 equally-spaced points from $\\frac{-\\pi}{2}$ to $\\frac{\\pi}{2}$). Then, a single-parameter circuit is used to find the 2-1-2 map. Looking at the circuit, the minimum should be when $\\theta = 0$.\n"
   ]
  },
  {
   "cell_type": "code",
   "execution_count": 1,
   "metadata": {},
   "outputs": [],
   "source": [
    "# Import modules\n",
    "%matplotlib inline\n",
    "import matplotlib.pyplot as plt\n",
    "import numpy as np\n",
    "import os\n",
    "import scipy.optimize\n",
    "\n",
    "from pyquil.gates import *\n",
    "from pyquil import Program\n",
    "\n",
    "from qcompress.qae_engine import *\n",
    "from qcompress.utils import *\n",
    "\n",
    "global pi\n",
    "pi = np.pi"
   ]
  },
  {
   "cell_type": "markdown",
   "metadata": {},
   "source": [
    "## QAE Settings\n",
    "\n",
    "In the cell below, we enter the settings for the QAE.\n",
    "\n",
    "__NOTE__: Because QCompress was designed to run on the quantum device (as well as the simulator), we need to anticipate nontrival mappings between abstract qubits and physical qubits. The dictionaries `q_in`,  `q_latent`, and `q_refresh` are abstract-to-physical qubit mappings for the input, latent space, and refresh qubits respectively. A cool plug-in/feature to add would be to have an automated \"qubit mapper\" to determine the optimal or near-optimal abstract-to-physical qubit mappings for a particular QAE instance."
   ]
  },
  {
   "cell_type": "code",
   "execution_count": 2,
   "metadata": {},
   "outputs": [],
   "source": [
    "### QAE setup options\n",
    "\n",
    "# Abstract-to-physical qubit mapping\n",
    "q_in = {'q0': 0, 'q1': 1} # Input qubits\n",
    "q_latent = {'q1': 1}      # Latent space qubits\n",
    "q_refresh = {'q0': 0}     # Refresh qubits\n",
    "\n",
    "# Training scheme: Full with reset feature (q_refresh = q_in - q_latent)\n",
    "trash_training = False\n",
    "reset = True\n",
    "\n",
    "# Simulator settings\n",
    "cxn_setting = '2q-qvm'\n",
    "n_shots = 5000"
   ]
  },
  {
   "cell_type": "markdown",
   "metadata": {},
   "source": [
    "### Aside: Running on the QPU\n",
    "\n",
    "To execute the quantum autoencoder on an actual quantum device, the user simply replaces `cxn_setting` to a valid quantum processing unit (QPU) setting. This is also assuming the user has already made reservations on his/her quantum machine image (QMI) to use the QPU. To sign up for an account on Rigetti's Quantum Cloud Services (QCS), click [here](https://www.rigetti.com/qcs)."
   ]
  },
  {
   "cell_type": "markdown",
   "metadata": {},
   "source": [
    "## Data preparation circuits\n",
    "\n",
    "To prepare the quantum data, we define the state preparation circuits (and their daggered circuits). In this particular example, we will generate the data by scanning over various values of `phi`. "
   ]
  },
  {
   "cell_type": "code",
   "execution_count": 3,
   "metadata": {},
   "outputs": [],
   "source": [
    "def _state_prep_circuit(phi, qubit_indices):\n",
    "    \"\"\"\n",
    "    Returns parametrized state preparation circuit.\n",
    "    We will vary over phi to generate the data set.\n",
    "    \n",
    "    :param phi: (list or numpy.array, required) List or array of data generation parameters\n",
    "    :param qubit_indices: (list, required) List of qubit indices\n",
    "    :returns: State preparation circuit\n",
    "    :rtype: pyquil.quil.Program\n",
    "    \"\"\"\n",
    "    circuit = Program()\n",
    "    circuit += Program(RY(phi[0], qubit_indices[1]))\n",
    "    circuit += Program(CNOT(qubit_indices[1], qubit_indices[0]))\n",
    "    return circuit\n",
    "\n",
    "def _state_prep_circuit_dag(phi, qubit_indices):\n",
    "    \"\"\"\n",
    "    Returns the daggered version of the state preparation circuit.\n",
    "    \n",
    "    :param phi: (list or numpy.array, required) List or array of data generation parameters\n",
    "    :param qubit_indices: (list, required) List of qubit indices\n",
    "    :returns: State un-preparation circuit\n",
    "    :rtype: pyquil.quil.Program\n",
    "    \"\"\"\n",
    "    circuit = Program()\n",
    "    circuit += Program(CNOT(qubit_indices[1], qubit_indices[0]))\n",
    "    circuit += Program(RY(-phi[0], qubit_indices[1]))\n",
    "    return circuit"
   ]
  },
  {
   "cell_type": "markdown",
   "metadata": {},
   "source": [
    "## Qubit labeling\n",
    "\n",
    "In the cell below, we produce lists of __ordered__ physical qubit indices involved in the compression and recovery maps of the quantum autoencoder. Depending on the training and reset schemes, we may use different qubits for the compression vs. recovery."
   ]
  },
  {
   "cell_type": "code",
   "execution_count": 4,
   "metadata": {},
   "outputs": [
    {
     "name": "stdout",
     "output_type": "stream",
     "text": [
      "Physical qubit indices for compression : [0, 1]\n",
      "Physical qubit indices for recovery    : [0, 1]\n"
     ]
    }
   ],
   "source": [
    "compression_indices = order_qubit_labels(q_in).tolist()\n",
    "\n",
    "q_out = merge_two_dicts(q_latent, q_refresh)\n",
    "recovery_indices = order_qubit_labels(q_out).tolist()\n",
    "\n",
    "if not reset:\n",
    "    recovery_indices = recovery_indices[::-1]\n",
    "\n",
    "print(\"Physical qubit indices for compression : {0}\".format(compression_indices))\n",
    "print(\"Physical qubit indices for recovery    : {0}\".format(recovery_indices))"
   ]
  },
  {
   "cell_type": "markdown",
   "metadata": {},
   "source": [
    "For the full training scheme with no resetting feature, this will require the three total qubits. \n",
    "\n",
    "The first two qubits (`q0`, `q1`) will be used to encode the quantum data. `q1` will then be used as the latent space qubit, meaning our objective will be to reward the training conditions that \"push\" the information to the latent space qubit. Then, a refresh qubit, `q2`, is added to recover the original data."
   ]
  },
  {
   "cell_type": "markdown",
   "metadata": {},
   "source": [
    "## Data generation\n",
    "\n",
    "After determining the qubit mapping, we add this physical qubit information to the state preparation circuits and store the \"mapped\" circuits."
   ]
  },
  {
   "cell_type": "code",
   "execution_count": 5,
   "metadata": {},
   "outputs": [],
   "source": [
    "# Lists to store state preparation circuits\n",
    "list_SP_circuits = []\n",
    "list_SP_circuits_dag = []\n",
    "\n",
    "phi_list = np.linspace(-pi/2., pi/2., 40)\n",
    "\n",
    "for angle in phi_list:\n",
    "\n",
    "    # Map state prep circuits\n",
    "    state_prep_circuit = _state_prep_circuit([angle], compression_indices)\n",
    "    \n",
    "    # Map daggered state prep circuits\n",
    "    if reset:\n",
    "        state_prep_circuit_dag = _state_prep_circuit_dag([angle], compression_indices)\n",
    "    else:\n",
    "        state_prep_circuit_dag = _state_prep_circuit_dag([angle], recovery_indices)\n",
    "\n",
    "    # Store mapped circuits\n",
    "    list_SP_circuits.append(state_prep_circuit)\n",
    "    list_SP_circuits_dag.append(state_prep_circuit_dag)"
   ]
  },
  {
   "cell_type": "markdown",
   "metadata": {},
   "source": [
    "## Training circuit preparation\n",
    "\n",
    "In this step, we choose a parametrized quantum circuit that will be trained to compress then recover the input data set.\n",
    "\n",
    "__NOTE__: This is a simple one-parameter training circuit."
   ]
  },
  {
   "cell_type": "code",
   "execution_count": 6,
   "metadata": {},
   "outputs": [],
   "source": [
    "def _training_circuit(theta, qubit_indices):\n",
    "    \"\"\"\n",
    "    Returns parametrized/training circuit.\n",
    "    \n",
    "    :param theta: (list or numpy.array, required) Vector of training parameters\n",
    "    :param qubit_indices: (list, required) List of qubit indices\n",
    "    :returns: Training circuit\n",
    "    :rtype: pyquil.quil.Program\n",
    "    \"\"\"\n",
    "    circuit = Program()\n",
    "    circuit += Program(RY(-theta[0]/2, qubit_indices[0]))\n",
    "    circuit += Program(CNOT(qubit_indices[1], qubit_indices[0]))\n",
    "    return circuit\n",
    "\n",
    "def _training_circuit_dag(theta, qubit_indices):\n",
    "    \"\"\"\n",
    "    Returns the daggered parametrized/training circuit.\n",
    "    \n",
    "    :param theta: (list or numpy.array, required) Vector of training parameters\n",
    "    :param qubit_indices: (list, required) List of qubit indices\n",
    "    :returns: Daggered training circuit\n",
    "    :rtype: pyquil.quil.Program\n",
    "    \"\"\"\n",
    "    circuit = Program()\n",
    "    circuit += Program(CNOT(qubit_indices[1], qubit_indices[0]))\n",
    "    circuit += Program(RY(theta[0]/2, qubit_indices[0]))\n",
    "    return circuit"
   ]
  },
  {
   "cell_type": "markdown",
   "metadata": {},
   "source": [
    "As was done for the state preparation circuits, we also map the training circuits with physical qubits we want to use."
   ]
  },
  {
   "cell_type": "code",
   "execution_count": 7,
   "metadata": {},
   "outputs": [],
   "source": [
    "training_circuit = lambda param : _training_circuit(param, compression_indices)\n",
    "\n",
    "if reset:\n",
    "    training_circuit_dag = lambda param : _training_circuit_dag(param, compression_indices)\n",
    "else:\n",
    "    training_circuit_dag = lambda param : _training_circuit_dag(param, recovery_indices)"
   ]
  },
  {
   "cell_type": "markdown",
   "metadata": {},
   "source": [
    "## Define the QAE instance\n",
    "\n",
    "Here, we initialize a QAE instance. This is where the user can decide which optimizer to use, etc. \n",
    "\n",
    "For this demo, we use `scipy`'s POWELL optimizer. Because various optimizers have different output variable names, we allow the user to enter a function that parses the optimization output. This function always returns the optimized parameter then its function value (in this order). We show an example of how to use this feature below (see `opt_result_parse` function). The POWELL optimizer returns a list of output values, in which the first and second elements are the optimized parameters and their corresponding function value, respectively."
   ]
  },
  {
   "cell_type": "code",
   "execution_count": 8,
   "metadata": {},
   "outputs": [],
   "source": [
    "minimizer = scipy.optimize.fmin_powell\n",
    "minimizer_args = []\n",
    "minimizer_kwargs = ({'xtol': 0.0001, 'ftol': 0.0001, 'maxiter': 500,\n",
    "                     'full_output': 1, 'retall': 1})\n",
    "opt_result_parse = lambda opt_res: ([opt_res[0]], opt_res[1])"
   ]
  },
  {
   "cell_type": "code",
   "execution_count": 9,
   "metadata": {},
   "outputs": [],
   "source": [
    "qae = quantum_autoencoder(state_prep_circuits=list_SP_circuits,\n",
    "                          training_circuit=training_circuit,\n",
    "                          q_in=q_in,\n",
    "                          q_latent=q_latent,\n",
    "                          q_refresh=q_refresh,\n",
    "                          state_prep_circuits_dag=list_SP_circuits_dag,\n",
    "                          training_circuit_dag=training_circuit_dag,\n",
    "                          trash_training=trash_training,\n",
    "                          reset=reset,\n",
    "                          minimizer=minimizer,\n",
    "                          minimizer_args=minimizer_args,\n",
    "                          minimizer_kwargs=minimizer_kwargs,\n",
    "                          opt_result_parse=opt_result_parse,\n",
    "                          n_shots=n_shots, \n",
    "                          print_interval=1)"
   ]
  },
  {
   "cell_type": "markdown",
   "metadata": {},
   "source": [
    "After defining the instance, we set up the Forest connection (in this case, a simulator) and split the data set."
   ]
  },
  {
   "cell_type": "code",
   "execution_count": 10,
   "metadata": {},
   "outputs": [],
   "source": [
    "qae.setup_forest_cxn(cxn_setting)"
   ]
  },
  {
   "cell_type": "code",
   "execution_count": 11,
   "metadata": {},
   "outputs": [],
   "source": [
    "qae.train_test_split(train_indices=[1, 31, 16, 7, 20, 23, 9, 17])"
   ]
  },
  {
   "cell_type": "code",
   "execution_count": 12,
   "metadata": {},
   "outputs": [
    {
     "name": "stdout",
     "output_type": "stream",
     "text": [
      "QCompress Setting\n",
      "=================\n",
      "QAE type: 2-1-2\n",
      "Data size: 40\n",
      "Training set size: 8\n",
      "Training mode: full cost function\n",
      "  Reset qubits: True\n",
      "Compile program: False\n",
      "Forest connection: 2q-qvm\n",
      "  Connection type: QVM\n"
     ]
    }
   ],
   "source": [
    "print(qae)"
   ]
  },
  {
   "cell_type": "markdown",
   "metadata": {},
   "source": [
    "## Training\n",
    "\n",
    "The autoencoder is trained in the cell below. The lowest possible mean loss value is -1.000."
   ]
  },
  {
   "cell_type": "code",
   "execution_count": 13,
   "metadata": {
    "scrolled": false
   },
   "outputs": [
    {
     "name": "stdout",
     "output_type": "stream",
     "text": [
      "Iter    0 Mean Loss: -0.5382250\n",
      "Iter    1 Mean Loss: -0.5400500\n",
      "Iter    2 Mean Loss: -0.2839000\n",
      "Iter    3 Mean Loss: -0.9166500\n",
      "Iter    4 Mean Loss: -0.8539250\n",
      "Iter    5 Mean Loss: -0.9167750\n",
      "Iter    6 Mean Loss: -0.2814000\n",
      "Iter    7 Mean Loss: -0.9488000\n",
      "Iter    8 Mean Loss: -0.9997750\n",
      "Iter    9 Mean Loss: -1.0000000\n",
      "Iter   10 Mean Loss: -0.9999000\n",
      "Iter   11 Mean Loss: -0.9999500\n",
      "Iter   12 Mean Loss: -0.5419250\n",
      "Iter   13 Mean Loss: -1.0000000\n",
      "Iter   14 Mean Loss: -0.5503500\n",
      "Iter   15 Mean Loss: -0.1691000\n",
      "Iter   16 Mean Loss: -1.0000000\n",
      "Iter   17 Mean Loss: -0.7972250\n",
      "Iter   18 Mean Loss: -0.9126500\n",
      "Iter   19 Mean Loss: -0.9996750\n",
      "Iter   20 Mean Loss: -0.9999500\n",
      "Iter   21 Mean Loss: -1.0000000\n",
      "Iter   22 Mean Loss: -1.0000000\n",
      "Iter   23 Mean Loss: -1.0000000\n",
      "Iter   24 Mean Loss: -1.0000000\n",
      "Iter   25 Mean Loss: -1.0000000\n",
      "Iter   26 Mean Loss: -1.0000000\n",
      "Iter   27 Mean Loss: -1.0000000\n",
      "Iter   28 Mean Loss: -1.0000000\n",
      "Iter   29 Mean Loss: -1.0000000\n",
      "Iter   30 Mean Loss: -1.0000000\n",
      "Iter   31 Mean Loss: -1.0000000\n",
      "Iter   32 Mean Loss: -1.0000000\n",
      "Iter   33 Mean Loss: -1.0000000\n",
      "Iter   34 Mean Loss: -1.0000000\n",
      "Iter   35 Mean Loss: -1.0000000\n",
      "Iter   36 Mean Loss: -1.0000000\n",
      "Iter   37 Mean Loss: -1.0000000\n",
      "Iter   38 Mean Loss: -1.0000000\n",
      "Iter   39 Mean Loss: -1.0000000\n",
      "Iter   40 Mean Loss: -1.0000000\n",
      "Iter   41 Mean Loss: -1.0000000\n",
      "Iter   42 Mean Loss: -1.0000000\n",
      "Iter   43 Mean Loss: -1.0000000\n",
      "Iter   44 Mean Loss: -1.0000000\n",
      "Iter   45 Mean Loss: -1.0000000\n",
      "Iter   46 Mean Loss: -1.0000000\n",
      "Iter   47 Mean Loss: -1.0000000\n",
      "Iter   48 Mean Loss: -1.0000000\n",
      "Iter   49 Mean Loss: -1.0000000\n",
      "Iter   50 Mean Loss: -1.0000000\n",
      "Iter   51 Mean Loss: -1.0000000\n",
      "Iter   52 Mean Loss: -1.0000000\n",
      "Iter   53 Mean Loss: -1.0000000\n",
      "Iter   54 Mean Loss: -1.0000000\n",
      "Iter   55 Mean Loss: -1.0000000\n",
      "Iter   56 Mean Loss: -1.0000000\n",
      "Iter   57 Mean Loss: -1.0000000\n",
      "Iter   58 Mean Loss: -1.0000000\n",
      "Iter   59 Mean Loss: -1.0000000\n",
      "Iter   60 Mean Loss: -1.0000000\n",
      "Iter   61 Mean Loss: -1.0000000\n",
      "Iter   62 Mean Loss: -1.0000000\n",
      "Iter   63 Mean Loss: -1.0000000\n",
      "Iter   64 Mean Loss: -1.0000000\n",
      "Iter   65 Mean Loss: -1.0000000\n",
      "Iter   66 Mean Loss: -1.0000000\n",
      "Iter   67 Mean Loss: -1.0000000\n",
      "Iter   68 Mean Loss: -1.0000000\n",
      "Iter   69 Mean Loss: -1.0000000\n",
      "Iter   70 Mean Loss: -1.0000000\n",
      "Iter   71 Mean Loss: -1.0000000\n",
      "Iter   72 Mean Loss: -1.0000000\n",
      "Optimization terminated successfully.\n",
      "         Current function value: -1.000000\n",
      "         Iterations: 2\n",
      "         Function evaluations: 73\n",
      "Mean loss for training data: -1.0\n",
      "CPU times: user 6 s, sys: 135 ms, total: 6.14 s\n",
      "Wall time: 57.3 s\n"
     ]
    }
   ],
   "source": [
    "%%time\n",
    "initial_guess = [pi/1.2]\n",
    "\n",
    "avg_loss_train = qae.train(initial_guess)"
   ]
  },
  {
   "cell_type": "markdown",
   "metadata": {},
   "source": [
    "### Printing the optimized parameters"
   ]
  },
  {
   "cell_type": "code",
   "execution_count": 14,
   "metadata": {},
   "outputs": [
    {
     "name": "stdout",
     "output_type": "stream",
     "text": [
      "[array(0.00155588)]\n"
     ]
    }
   ],
   "source": [
    "print(qae.optimized_params)"
   ]
  },
  {
   "cell_type": "markdown",
   "metadata": {},
   "source": [
    "### Plot training loss"
   ]
  },
  {
   "cell_type": "code",
   "execution_count": 18,
   "metadata": {},
   "outputs": [
    {
     "data": {
      "image/png": "[encoded data removed]",
      "text/plain": [
       "<Figure size 432x288 with 1 Axes>"
      ]
     },
     "metadata": {
      "needs_background": "light"
     },
     "output_type": "display_data"
    }
   ],
   "source": [
    "# Visualize loss across function evaluations\n",
    "fig = plt.figure(figsize=(6, 4))\n",
    "plt.plot(qae.train_history, 'ko-', markersize=4, linewidth=1)\n",
    "plt.title(\"Training Loss\", fontsize=16)\n",
    "plt.xlabel(\"Function Evaluation\",fontsize=20)\n",
    "plt.ylabel(\"Loss Value\", fontsize=20)\n",
    "plt.xticks(fontsize=16)\n",
    "plt.yticks(fontsize=16)\n",
    "plt.show()"
   ]
  },
  {
   "cell_type": "markdown",
   "metadata": {},
   "source": [
    "## Testing\n",
    "\n",
    "Now test the optimized network against the rest of the data set (i.e. use the optimized parameters to try to compress then recover each test data point)."
   ]
  },
  {
   "cell_type": "code",
   "execution_count": 16,
   "metadata": {},
   "outputs": [
    {
     "name": "stdout",
     "output_type": "stream",
     "text": [
      "Iter   73 Mean Loss: -1.0000000\n",
      "Mean loss for test data: -1.0\n"
     ]
    }
   ],
   "source": [
    "avg_loss_test = qae.predict()"
   ]
  },
  {
   "cell_type": "code",
   "execution_count": null,
   "metadata": {},
   "outputs": [],
   "source": []
  }
 ],
 "metadata": {
  "kernelspec": {
   "display_name": "Python 3",
   "language": "python",
   "name": "python3"
  },
  "language_info": {
   "codemirror_mode": {
    "name": "ipython",
    "version": 3
   },
   "file_extension": ".py",
   "mimetype": "text/x-python",
   "name": "python",
   "nbconvert_exporter": "python",
   "pygments_lexer": "ipython3",
   "version": "3.6.7"
  }
 },
 "nbformat": 4,
 "nbformat_minor": 2
}
